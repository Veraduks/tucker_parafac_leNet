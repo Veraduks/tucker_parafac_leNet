{
  "nbformat": 4,
  "nbformat_minor": 0,
  "metadata": {
    "colab": {
      "name": "MNIST_LeNet.ipynb",
      "provenance": [],
      "collapsed_sections": [],
      "authorship_tag": "ABX9TyM6weIZ2C0bO88AM1ywrK+T",
      "include_colab_link": true
    },
    "kernelspec": {
      "name": "python3",
      "display_name": "Python 3"
    },
    "accelerator": "GPU"
  },
  "cells": [
    {
      "cell_type": "markdown",
      "metadata": {
        "id": "view-in-github",
        "colab_type": "text"
      },
      "source": [
        "<a href=\"https://colab.research.google.com/github/Veraduks/tucker_parafac_leNet/blob/master/MNIST_LeNet.ipynb\" target=\"_parent\"><img src=\"https://colab.research.google.com/assets/colab-badge.svg\" alt=\"Open In Colab\"/></a>"
      ]
    },
    {
      "cell_type": "code",
      "metadata": {
        "id": "i5gT3cv_ca1l",
        "colab_type": "code",
        "colab": {}
      },
      "source": [
        "!pip install tensorly"
      ],
      "execution_count": 0,
      "outputs": []
    },
    {
      "cell_type": "code",
      "metadata": {
        "id": "QwE9p9CBxPMk",
        "colab_type": "code",
        "colab": {}
      },
      "source": [
        "import keras\n",
        "from keras.layers.convolutional import Convolution2D\n",
        "from keras.layers.convolutional import MaxPooling2D\n",
        "from keras.layers.core import Activation\n",
        "from keras.layers.core import Flatten\n",
        "from keras.layers.core import Dense\n",
        "from keras.models import Sequential\n",
        "from keras.optimizers import SGD\n",
        "from keras.utils import np_utils\n",
        "from sklearn.model_selection import train_test_split\n",
        "from sklearn import datasets\n",
        "import numpy as np\n",
        "import tensorly as tl\n",
        "from tensorly.decomposition import parafac\n",
        "from tensorly.decomposition import tucker\n",
        "import matplotlib.pyplot as plt"
      ],
      "execution_count": 0,
      "outputs": []
    },
    {
      "cell_type": "code",
      "metadata": {
        "id": "bNdiIS0XcefC",
        "colab_type": "code",
        "colab": {}
      },
      "source": [
        "from sklearn.datasets import fetch_openml\n",
        "dataset = fetch_openml('mnist_784')"
      ],
      "execution_count": 0,
      "outputs": []
    },
    {
      "cell_type": "code",
      "metadata": {
        "id": "BaMWFznDc5dU",
        "colab_type": "code",
        "colab": {}
      },
      "source": [
        "# Reshape the data to a (70000, 28, 28) tensor\n",
        "data = dataset.data.reshape((dataset.data.shape[0], 28, 28))"
      ],
      "execution_count": 0,
      "outputs": []
    },
    {
      "cell_type": "code",
      "metadata": {
        "id": "tH6RPC2Dd3Hu",
        "colab_type": "code",
        "colab": {}
      },
      "source": [
        "# Reshape the data to a (70000, 28, 28, 1) tensord\n",
        "data = data[:, :, :, np.newaxis]"
      ],
      "execution_count": 0,
      "outputs": []
    },
    {
      "cell_type": "code",
      "metadata": {
        "id": "4AWMxgV0d7pi",
        "colab_type": "code",
        "colab": {}
      },
      "source": [
        "# Scale values from range of [0-255] to [0-1]\n",
        "scaled_data = data / 255.0"
      ],
      "execution_count": 0,
      "outputs": []
    },
    {
      "cell_type": "code",
      "metadata": {
        "id": "e2qrMpLnd9Du",
        "colab_type": "code",
        "colab": {}
      },
      "source": [
        "# Split the dataset into training and test sets\n",
        "(train_data, test_data, train_labels, test_labels) = train_test_split(\n",
        "    scaled_data,\n",
        "    dataset.target.astype(\"int\"), \n",
        "    test_size = 0.33)\n"
      ],
      "execution_count": 0,
      "outputs": []
    },
    {
      "cell_type": "code",
      "metadata": {
        "id": "-0mlE9c0d_Gs",
        "colab_type": "code",
        "colab": {}
      },
      "source": [
        "# Tranform training labels to one-hot encoding\n",
        "train_labels = np_utils.to_categorical(train_labels, 10)"
      ],
      "execution_count": 0,
      "outputs": []
    },
    {
      "cell_type": "code",
      "metadata": {
        "id": "jHiIMIcPeAwy",
        "colab_type": "code",
        "colab": {}
      },
      "source": [
        "# Tranform test labels to one-hot encoding\n",
        "test_labels = np_utils.to_categorical(test_labels, 10)"
      ],
      "execution_count": 0,
      "outputs": []
    },
    {
      "cell_type": "code",
      "metadata": {
        "id": "PcwyNLJjeCP4",
        "colab_type": "code",
        "colab": {}
      },
      "source": [
        "# Create a sequential model\n",
        "model = Sequential()\n",
        "\n",
        "# Add the first convolution layer\n",
        "model.add(Convolution2D(\n",
        "    filters = 20,\n",
        "    kernel_size = (5, 5),\n",
        "    padding = \"same\",\n",
        "    input_shape = (28, 28, 1)))\n",
        "\n",
        "# Add a ReLU activation function\n",
        "model.add(Activation(\n",
        "    activation = \"relu\"))\n",
        "\n",
        "# Add a pooling layer\n",
        "model.add(MaxPooling2D(\n",
        "    pool_size = (2, 2),\n",
        "    strides =  (2, 2)))\n",
        "\n",
        "# Add the second convolution layer\n",
        "model.add(Convolution2D(\n",
        "    filters = 50,\n",
        "    kernel_size = (5, 5),\n",
        "    padding = \"same\"))\n",
        "\n",
        "# Add a ReLU activation function\n",
        "model.add(Activation(\n",
        "    activation = \"relu\"))\n",
        "\n",
        "# Add a second pooling layer\n",
        "model.add(MaxPooling2D(\n",
        "    pool_size = (2, 2),\n",
        "    strides = (2, 2)))\n",
        "\n",
        "# Flatten the network\n",
        "model.add(Flatten())\n",
        "\n",
        "# Add a fully-connected hidden layer\n",
        "model.add(Dense(500))\n",
        "\n",
        "# Add a ReLU activation function\n",
        "model.add(Activation(\n",
        "    activation = \"relu\"))\n",
        "\n",
        "# Add a fully-connected output layer\n",
        "model.add(Dense(10))\n",
        "\n",
        "# Add a softmax activation function\n",
        "model.add(Activation(\"softmax\"))"
      ],
      "execution_count": 0,
      "outputs": []
    },
    {
      "cell_type": "code",
      "metadata": {
        "id": "BsdG6XLWfBfh",
        "colab_type": "code",
        "outputId": "bd19996e-112c-4f55-ef88-90d7a0edf180",
        "colab": {
          "base_uri": "https://localhost:8080/",
          "height": 527
        }
      },
      "source": [
        "model.summary()"
      ],
      "execution_count": 11,
      "outputs": [
        {
          "output_type": "stream",
          "text": [
            "Model: \"sequential_1\"\n",
            "_________________________________________________________________\n",
            "Layer (type)                 Output Shape              Param #   \n",
            "=================================================================\n",
            "conv2d_1 (Conv2D)            (None, 28, 28, 20)        520       \n",
            "_________________________________________________________________\n",
            "activation_1 (Activation)    (None, 28, 28, 20)        0         \n",
            "_________________________________________________________________\n",
            "max_pooling2d_1 (MaxPooling2 (None, 14, 14, 20)        0         \n",
            "_________________________________________________________________\n",
            "conv2d_2 (Conv2D)            (None, 14, 14, 50)        25050     \n",
            "_________________________________________________________________\n",
            "activation_2 (Activation)    (None, 14, 14, 50)        0         \n",
            "_________________________________________________________________\n",
            "max_pooling2d_2 (MaxPooling2 (None, 7, 7, 50)          0         \n",
            "_________________________________________________________________\n",
            "flatten_1 (Flatten)          (None, 2450)              0         \n",
            "_________________________________________________________________\n",
            "dense_1 (Dense)              (None, 500)               1225500   \n",
            "_________________________________________________________________\n",
            "activation_3 (Activation)    (None, 500)               0         \n",
            "_________________________________________________________________\n",
            "dense_2 (Dense)              (None, 10)                5010      \n",
            "_________________________________________________________________\n",
            "activation_4 (Activation)    (None, 10)                0         \n",
            "=================================================================\n",
            "Total params: 1,256,080\n",
            "Trainable params: 1,256,080\n",
            "Non-trainable params: 0\n",
            "_________________________________________________________________\n"
          ],
          "name": "stdout"
        }
      ]
    },
    {
      "cell_type": "code",
      "metadata": {
        "id": "5rrTd1effaLA",
        "colab_type": "code",
        "outputId": "927bae88-1fe3-47d8-8797-5faf5adbc91b",
        "colab": {
          "base_uri": "https://localhost:8080/",
          "height": 51
        }
      },
      "source": [
        "# Compile the network\n",
        "model.compile(\n",
        "    loss = \"categorical_crossentropy\", \n",
        "    optimizer = SGD(lr = 0.01),\n",
        "    metrics = [\"accuracy\"])\n",
        "#print('\\n layer_1 веса до обучения :\\n', model.layers[0].weights[0])\n",
        "print(model.layers[0].weights[0].shape)\n",
        "print(model.layers[3].weights[0].shape)"
      ],
      "execution_count": 12,
      "outputs": [
        {
          "output_type": "stream",
          "text": [
            "(5, 5, 1, 20)\n",
            "(5, 5, 20, 50)\n"
          ],
          "name": "stdout"
        }
      ]
    },
    {
      "cell_type": "code",
      "metadata": {
        "id": "TE4zxkIieGZM",
        "colab_type": "code",
        "outputId": "00d626d2-9a6e-4847-98b7-5ab6d9414a06",
        "colab": {
          "base_uri": "https://localhost:8080/",
          "height": 697
        }
      },
      "source": [
        "epochs = 20\n",
        "\n",
        "# Train the model \n",
        "history = model.fit(\n",
        "    train_data, \n",
        "    train_labels, \n",
        "    batch_size = 128, \n",
        "    epochs = epochs,\n",
        "\t  verbose = 1)\n"
      ],
      "execution_count": 13,
      "outputs": [
        {
          "output_type": "stream",
          "text": [
            "Epoch 1/20\n",
            "46900/46900 [==============================] - 8s 169us/step - loss: 1.2881 - accuracy: 0.6513\n",
            "Epoch 2/20\n",
            "46900/46900 [==============================] - 2s 37us/step - loss: 0.2955 - accuracy: 0.9134\n",
            "Epoch 3/20\n",
            "46900/46900 [==============================] - 2s 37us/step - loss: 0.2078 - accuracy: 0.9385\n",
            "Epoch 4/20\n",
            "46900/46900 [==============================] - 2s 38us/step - loss: 0.1635 - accuracy: 0.9513\n",
            "Epoch 5/20\n",
            "46900/46900 [==============================] - 2s 37us/step - loss: 0.1371 - accuracy: 0.9596\n",
            "Epoch 6/20\n",
            "46900/46900 [==============================] - 2s 38us/step - loss: 0.1171 - accuracy: 0.9651\n",
            "Epoch 7/20\n",
            "46900/46900 [==============================] - 2s 37us/step - loss: 0.1033 - accuracy: 0.9692\n",
            "Epoch 8/20\n",
            "46900/46900 [==============================] - 2s 37us/step - loss: 0.0927 - accuracy: 0.9725\n",
            "Epoch 9/20\n",
            "46900/46900 [==============================] - 2s 37us/step - loss: 0.0847 - accuracy: 0.9749\n",
            "Epoch 10/20\n",
            "46900/46900 [==============================] - 2s 37us/step - loss: 0.0778 - accuracy: 0.9766\n",
            "Epoch 11/20\n",
            "46900/46900 [==============================] - 2s 37us/step - loss: 0.0726 - accuracy: 0.9778\n",
            "Epoch 12/20\n",
            "46900/46900 [==============================] - 2s 37us/step - loss: 0.0672 - accuracy: 0.9799\n",
            "Epoch 13/20\n",
            "46900/46900 [==============================] - 2s 37us/step - loss: 0.0624 - accuracy: 0.9816\n",
            "Epoch 14/20\n",
            "46900/46900 [==============================] - 2s 37us/step - loss: 0.0588 - accuracy: 0.9826\n",
            "Epoch 15/20\n",
            "46900/46900 [==============================] - 2s 37us/step - loss: 0.0563 - accuracy: 0.9830\n",
            "Epoch 16/20\n",
            "46900/46900 [==============================] - 2s 38us/step - loss: 0.0530 - accuracy: 0.9847\n",
            "Epoch 17/20\n",
            "46900/46900 [==============================] - 2s 37us/step - loss: 0.0503 - accuracy: 0.9850\n",
            "Epoch 18/20\n",
            "46900/46900 [==============================] - 2s 37us/step - loss: 0.0479 - accuracy: 0.9857\n",
            "Epoch 19/20\n",
            "46900/46900 [==============================] - 2s 37us/step - loss: 0.0454 - accuracy: 0.9867\n",
            "Epoch 20/20\n",
            "46900/46900 [==============================] - 2s 37us/step - loss: 0.0436 - accuracy: 0.9870\n"
          ],
          "name": "stdout"
        }
      ]
    },
    {
      "cell_type": "code",
      "metadata": {
        "id": "SdffTkrpffrW",
        "colab_type": "code",
        "outputId": "249eae70-1efe-4984-fb42-5179ec88defa",
        "colab": {
          "base_uri": "https://localhost:8080/",
          "height": 34
        }
      },
      "source": [
        "# Evaluate the model\n",
        "(loss, accuracy) = model.evaluate(\n",
        "    test_data, \n",
        "    test_labels,\n",
        "    batch_size = 128, \n",
        "    verbose = 1)"
      ],
      "execution_count": 14,
      "outputs": [
        {
          "output_type": "stream",
          "text": [
            "23100/23100 [==============================] - 1s 22us/step\n"
          ],
          "name": "stdout"
        }
      ]
    },
    {
      "cell_type": "code",
      "metadata": {
        "id": "ZsoST2jffhyS",
        "colab_type": "code",
        "outputId": "ff4a2f3f-3336-4538-ed8f-316b3675e06e",
        "colab": {
          "base_uri": "https://localhost:8080/",
          "height": 51
        }
      },
      "source": [
        "# Print the model's accuracy\n",
        "print(accuracy)\n",
        "print(loss)"
      ],
      "execution_count": 15,
      "outputs": [
        {
          "output_type": "stream",
          "text": [
            "0.9817748665809631\n",
            "0.05933596299324201\n"
          ],
          "name": "stdout"
        }
      ]
    },
    {
      "cell_type": "code",
      "metadata": {
        "id": "VA4aXhgGeP7V",
        "colab_type": "code",
        "colab": {
          "base_uri": "https://localhost:8080/",
          "height": 607
        },
        "outputId": "c93607b9-3287-4dc2-a816-2fab5e08ce15"
      },
      "source": [
        "acc = history.history['accuracy']\n",
        "\n",
        "loss = history.history['loss']\n",
        "\n",
        "epochs_range = range(epochs)\n",
        "\n",
        "plt.figure(figsize=(10,10))\n",
        "plt.subplot(1, 2, 1)\n",
        "plt.plot(epochs_range, acc, label='Training Accuracy')\n",
        "plt.legend(loc='lower right')\n",
        "plt.title('Training Accuracy')\n",
        "\n",
        "plt.subplot(1, 2, 2)\n",
        "plt.plot(epochs_range, loss, label='Training Loss')\n",
        "plt.legend(loc='upper right')\n",
        "plt.title('Training Loss')\n",
        "plt.show()"
      ],
      "execution_count": 18,
      "outputs": [
        {
          "output_type": "display_data",
          "data": {
            "image/png": "[encoded data removed]",
            "text/plain": [
              "<Figure size 720x720 with 2 Axes>"
            ]
          },
          "metadata": {
            "tags": [],
            "needs_background": "light"
          }
        }
      ]
    },
    {
      "cell_type": "code",
      "metadata": {
        "id": "msN7UOfgGcNt",
        "colab_type": "code",
        "colab": {}
      },
      "source": [
        "def decomposition(layer, ranks):\n",
        "  '''takes a convolutional layer, prepare tucker decomposition on its weights\n",
        "  and return a tucker_to_tensor object with biases'''\n",
        "  old_weights = layer.weights[0].numpy()\n",
        "  biases = layer.weights[1].numpy()\n",
        "  core, factors = tucker(old_weights, ranks = ranks)\n",
        "  new_weights = tl.tucker_to_tensor((core, factors))\n",
        "  print('Well done Tucker decomposition, residual is: \\n', tl.norm(new_weights-old_weights))\n",
        "  return [new_weights, biases]"
      ],
      "execution_count": 0,
      "outputs": []
    },
    {
      "cell_type": "code",
      "metadata": {
        "id": "rgHknbJlTmyp",
        "colab_type": "code",
        "colab": {}
      },
      "source": [
        "def parafac_decomposition(layer, rank):\n",
        "  '''takes a convolutional layer, prepare PARAFAC decomposition on its weights\n",
        "  and return a tucker_to_tensor object with biases'''\n",
        "  old_weights = layer.weights[0].numpy()\n",
        "  biases = layer.weights[1].numpy()\n",
        "  core, factors = parafac(old_weights, rank, init = 'svd')\n",
        "  new_weights = tl.kruskal_to_tensor((core, factors))\n",
        "  print('Well done parafac decomposition, residual is: \\n', tl.norm(new_weights-old_weights))\n",
        "  return [new_weights, biases]"
      ],
      "execution_count": 0,
      "outputs": []
    },
    {
      "cell_type": "code",
      "metadata": {
        "id": "RTMMlRztMGMj",
        "colab_type": "code",
        "colab": {
          "base_uri": "https://localhost:8080/",
          "height": 391
        },
        "outputId": "c8532585-48e3-4da3-fe4a-a5361533ee64"
      },
      "source": [
        "import copy\n",
        "model_tucker = copy.deepcopy(model)\n",
        "model_parafac = copy.deepcopy(model)\n",
        "\n",
        "'''experiment 1'''\n",
        "model_tucker.layers[0].set_weights(\n",
        "    decomposition(model.layers[0], ranks = (3, 3, 1, 10)))\n",
        "model_tucker.layers[3].set_weights(\n",
        "    decomposition(model.layers[3], ranks = (3, 3, 10, 25)))\n",
        "(loss_t, accuracy_t) = model_tucker.evaluate(\n",
        "    test_data, \n",
        "    test_labels,\n",
        "    batch_size = 128, \n",
        "    verbose = 1)\n",
        "print('Evaluation done!')\n",
        "print('Accuracy and loss with Tucker Decomposition : \\n', accuracy_t, loss_t)\n",
        "print('Difference in accuracy : \\n', accuracy-accuracy_t)\n",
        "print('\\n')\n",
        "\n",
        "'''experiment 2'''\n",
        "model_parafac.layers[0].set_weights(\n",
        "    parafac_decomposition(model.layers[0], rank = 1))\n",
        "model_parafac.layers[3].set_weights(\n",
        "    parafac_decomposition(model.layers[3], rank = 6))\n",
        "(loss_p, accuracy_p) = model_parafac.evaluate(\n",
        "    test_data, \n",
        "    test_labels,\n",
        "    batch_size = 128, \n",
        "    verbose = 1)\n",
        "print('Evaluation done!')\n",
        "print('Accuracy and loss with Parafac Decomposition : \\n', accuracy_p, loss_p)\n",
        "print('Difference in accuracy : \\n', accuracy-accuracy_p)"
      ],
      "execution_count": 21,
      "outputs": [
        {
          "output_type": "stream",
          "text": [
            "Well done Tucker decomposition, residual is: \n",
            " 1.1018258\n",
            "Well done Tucker decomposition, residual is: \n",
            " 5.033047\n",
            "23100/23100 [==============================] - 1s 22us/step\n",
            "Evaluation done!\n",
            "Accuracy and loss with Tucker Decomposition : \n",
            " 0.9768398404121399 0.07601788066359826\n",
            "Difference in accuracy : \n",
            " 0.004935026168823242\n",
            "\n",
            "\n",
            "Well done parafac decomposition, residual is: \n",
            " 2.2024703\n",
            "Well done parafac decomposition, residual is: \n",
            " 5.543443\n",
            "23100/23100 [==============================] - 1s 25us/step\n",
            "Evaluation done!\n",
            "Accuracy and loss with Parafac Decomposition : \n",
            " 0.9162770509719849 0.2833497480990051\n",
            "Difference in accuracy : \n",
            " 0.06549781560897827\n"
          ],
          "name": "stdout"
        }
      ]
    },
    {
      "cell_type": "code",
      "metadata": {
        "id": "VBcnnnUYM8U7",
        "colab_type": "code",
        "colab": {
          "base_uri": "https://localhost:8080/",
          "height": 391
        },
        "outputId": "2da883a9-5c1a-4ef9-a74c-3553a9345149"
      },
      "source": [
        "model_tucker = copy.deepcopy(model)\n",
        "model_parafac = copy.deepcopy(model)\n",
        "\n",
        "'''experiment 3'''\n",
        "model_tucker.layers[0].set_weights(\n",
        "    decomposition(model.layers[0], ranks = (5, 5, 1, 20)))\n",
        "model_tucker.layers[3].set_weights(\n",
        "    decomposition(model.layers[3], ranks = (5, 5, 20, 50)))\n",
        "(loss_t, accuracy_t) = model_tucker.evaluate(\n",
        "    test_data, \n",
        "    test_labels,\n",
        "    batch_size = 128, \n",
        "    verbose = 1)\n",
        "print('Evaluation done!')\n",
        "print('Accuracy and loss with Tucker Decomposition : \\n', accuracy_t, loss_t)\n",
        "print('Difference in accuracy : \\n', accuracy-accuracy_t)\n",
        "print('\\n')\n",
        "\n",
        "'''experiment 4'''\n",
        "model_parafac.layers[0].set_weights(\n",
        "    parafac_decomposition(model.layers[0], rank = 20))\n",
        "model_parafac.layers[3].set_weights(\n",
        "    parafac_decomposition(model.layers[3], rank = 500))\n",
        "(loss_p, accuracy_p) = model_parafac.evaluate(\n",
        "    test_data, \n",
        "    test_labels,\n",
        "    batch_size = 128, \n",
        "    verbose = 1)\n",
        "print('Evaluation done!')\n",
        "print('Accuracy and loss with Parafac Decomposition : \\n', accuracy_p, loss_p)\n",
        "print('Difference in accuracy : \\n', accuracy-accuracy_p)"
      ],
      "execution_count": 22,
      "outputs": [
        {
          "output_type": "stream",
          "text": [
            "Well done Tucker decomposition, residual is: \n",
            " 1.8238372e-06\n",
            "Well done Tucker decomposition, residual is: \n",
            " 7.135518e-06\n",
            "23100/23100 [==============================] - 1s 24us/step\n",
            "Evaluation done!\n",
            "Accuracy and loss with Tucker Decomposition : \n",
            " 0.9817748665809631 0.059335959070559705\n",
            "Difference in accuracy : \n",
            " 0.0\n",
            "\n",
            "\n",
            "Well done parafac decomposition, residual is: \n",
            " 0.114449754\n",
            "Well done parafac decomposition, residual is: \n",
            " 0.025206916\n",
            "23100/23100 [==============================] - 1s 24us/step\n",
            "Evaluation done!\n",
            "Accuracy and loss with Parafac Decomposition : \n",
            " 0.9819480776786804 0.059313596872798295\n",
            "Difference in accuracy : \n",
            " -0.00017321109771728516\n"
          ],
          "name": "stdout"
        }
      ]
    },
    {
      "cell_type": "code",
      "metadata": {
        "id": "RSDBdUBEHvB-",
        "colab_type": "code",
        "colab": {
          "base_uri": "https://localhost:8080/",
          "height": 391
        },
        "outputId": "431e81f8-88b7-43f7-947d-4864be479920"
      },
      "source": [
        "model_tucker = copy.deepcopy(model)\n",
        "model_parafac = copy.deepcopy(model)\n",
        "\n",
        "'''experiment 5'''\n",
        "model_tucker.layers[0].set_weights(\n",
        "    decomposition(model.layers[0], ranks = (1, 1, 1, 5)))\n",
        "model_tucker.layers[3].set_weights(\n",
        "    decomposition(model.layers[3], ranks = (2, 2, 5, 15)))\n",
        "(loss_t, accuracy_t) = model_tucker.evaluate(\n",
        "    test_data, \n",
        "    test_labels,\n",
        "    batch_size = 128, \n",
        "    verbose = 1)\n",
        "print('Evaluation done!')\n",
        "print('Accuracy and loss with Tucker Decomposition : \\n', accuracy_t, loss_t)\n",
        "print('Difference in accuracy : \\n', accuracy-accuracy_t)\n",
        "print('\\n')\n",
        "\n",
        "'''experiment 6'''\n",
        "model_parafac.layers[0].set_weights(\n",
        "    parafac_decomposition(model.layers[0], rank = 1))\n",
        "model_parafac.layers[3].set_weights(\n",
        "    parafac_decomposition(model.layers[3], rank = 6))\n",
        "(loss_p, accuracy_p) = model_parafac.evaluate(\n",
        "    test_data, \n",
        "    test_labels,\n",
        "    batch_size = 128, \n",
        "    verbose = 1)\n",
        "print('Evaluation done!')\n",
        "print('Accuracy and loss with Parafac Decomposition : \\n', accuracy_p, loss_p)\n",
        "print('Difference in accuracy : \\n', accuracy-accuracy_p)"
      ],
      "execution_count": 23,
      "outputs": [
        {
          "output_type": "stream",
          "text": [
            "Well done Tucker decomposition, residual is: \n",
            " 2.2024717\n",
            "Well done Tucker decomposition, residual is: \n",
            " 5.5410523\n",
            "23100/23100 [==============================] - 1s 23us/step\n",
            "Evaluation done!\n",
            "Accuracy and loss with Tucker Decomposition : \n",
            " 0.2853679656982422 2.8959565433072836\n",
            "Difference in accuracy : \n",
            " 0.696406900882721\n",
            "\n",
            "\n",
            "Well done parafac decomposition, residual is: \n",
            " 2.20247\n",
            "Well done parafac decomposition, residual is: \n",
            " 5.548835\n",
            "23100/23100 [==============================] - 1s 23us/step\n",
            "Evaluation done!\n",
            "Accuracy and loss with Parafac Decomposition : \n",
            " 0.9138960838317871 0.28558149684559214\n",
            "Difference in accuracy : \n",
            " 0.06787878274917603\n"
          ],
          "name": "stdout"
        }
      ]
    }
  ]
}